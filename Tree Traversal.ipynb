{
 "cells": [
  {
   "cell_type": "markdown",
   "metadata": {},
   "source": [
    "This is for the traversal of Binary Tree."
   ]
  },
  {
   "cell_type": "code",
   "execution_count": 95,
   "metadata": {},
   "outputs": [],
   "source": [
    "class BinaryTree(object):\n",
    "    \n",
    "    #inicialize the class\n",
    "    def __init__(self,root):\n",
    "        self.root = root\n",
    "        self.left_child = None\n",
    "        self.right_child = None\n",
    "        \n",
    "    #insert left child\n",
    "    def insert_left_child(self,new_child):\n",
    "        \n",
    "        #if there is not a left child\n",
    "        if self.left_child == None:\n",
    "            self.left_child = BinaryTree(new_child)\n",
    "        \n",
    "        #if there is a left child\n",
    "        else:\n",
    "            tmp = BinaryTree(new_child)\n",
    "            tmp.left_child = self.left_child\n",
    "            self.left_child = tmp\n",
    "            \n",
    "    #insert right child\n",
    "    def insert_right_child(self,new_child):\n",
    "        \n",
    "        #if there is not a right child\n",
    "        if self.right_child == None:\n",
    "            self.right_child = BinaryTree(new_child)\n",
    "            \n",
    "        #if there is a right child\n",
    "        else:\n",
    "            tmp = BinaryTree(new_child)\n",
    "            tmp.right_child = self.right_child\n",
    "            self.right_child = tmp\n",
    "            \n",
    "    #get left child\n",
    "    def get_left_child(self):\n",
    "        return self.left_child\n",
    "    \n",
    "    #get right child\n",
    "    def get_right_child(self):\n",
    "        return self.right_child\n",
    "    \n",
    "    #get root value\n",
    "    def get_root_value(self):\n",
    "        return self.root\n",
    "    \n",
    "    #set root value\n",
    "    def set_root_value(self,new_root):\n",
    "        self.root = new_root\n",
    "        \n",
    "    #preorder\n",
    "    def preorder(self):\n",
    "        print(self.root)\n",
    "        if self.left_child:\n",
    "            self.left_child.preorder()\n",
    "        if self.right_child:\n",
    "            self.right_child.preorder()\n",
    "        \n",
    "    #Inorder   \n",
    "    def inorder(self):\n",
    "        if self.left_child:\n",
    "            self.left_child.inorder()\n",
    "        print(self.root)\n",
    "        if self.right_child:\n",
    "            self.right_child.inorder()\n",
    "    \n",
    "    #postorder\n",
    "    def postorder(self):\n",
    "        \n",
    "        if self.left_child:\n",
    "            self.left_child.postorder()\n",
    "        if self.right_child:\n",
    "            self.right_child.postorder()\n",
    "        print(self.root)\n",
    "    \n",
    "\n",
    "#bt is an instance of Binary Tree        \n",
    "tree = BinaryTree(5)"
   ]
  },
  {
   "cell_type": "markdown",
   "metadata": {},
   "source": [
    "Insert child"
   ]
  },
  {
   "cell_type": "code",
   "execution_count": 96,
   "metadata": {},
   "outputs": [],
   "source": [
    "tree.insert_left_child(4)"
   ]
  },
  {
   "cell_type": "code",
   "execution_count": 97,
   "metadata": {},
   "outputs": [],
   "source": [
    "tree.insert_left_child(6)"
   ]
  },
  {
   "cell_type": "code",
   "execution_count": 98,
   "metadata": {},
   "outputs": [],
   "source": [
    "tree.insert_right_child(3)"
   ]
  },
  {
   "cell_type": "code",
   "execution_count": 99,
   "metadata": {},
   "outputs": [],
   "source": [
    "tree.insert_right_child(2)"
   ]
  },
  {
   "cell_type": "markdown",
   "metadata": {},
   "source": [
    "Preorder"
   ]
  },
  {
   "cell_type": "code",
   "execution_count": 100,
   "metadata": {},
   "outputs": [
    {
     "name": "stdout",
     "output_type": "stream",
     "text": [
      "5\n",
      "6\n",
      "4\n",
      "2\n",
      "3\n"
     ]
    }
   ],
   "source": [
    "tree.preorder()"
   ]
  },
  {
   "cell_type": "markdown",
   "metadata": {},
   "source": [
    "Inorder"
   ]
  },
  {
   "cell_type": "code",
   "execution_count": 101,
   "metadata": {},
   "outputs": [
    {
     "name": "stdout",
     "output_type": "stream",
     "text": [
      "4\n",
      "6\n",
      "5\n",
      "2\n",
      "3\n"
     ]
    }
   ],
   "source": [
    "tree.inorder()"
   ]
  },
  {
   "cell_type": "markdown",
   "metadata": {},
   "source": [
    "Postorder"
   ]
  },
  {
   "cell_type": "code",
   "execution_count": 102,
   "metadata": {},
   "outputs": [
    {
     "name": "stdout",
     "output_type": "stream",
     "text": [
      "4\n",
      "6\n",
      "3\n",
      "2\n",
      "5\n"
     ]
    }
   ],
   "source": [
    "tree.postorder()"
   ]
  },
  {
   "cell_type": "code",
   "execution_count": null,
   "metadata": {},
   "outputs": [],
   "source": []
  }
 ],
 "metadata": {
  "kernelspec": {
   "display_name": "Python 3",
   "language": "python",
   "name": "python3"
  },
  "language_info": {
   "codemirror_mode": {
    "name": "ipython",
    "version": 3
   },
   "file_extension": ".py",
   "mimetype": "text/x-python",
   "name": "python",
   "nbconvert_exporter": "python",
   "pygments_lexer": "ipython3",
   "version": "3.7.3"
  }
 },
 "nbformat": 4,
 "nbformat_minor": 2
}
