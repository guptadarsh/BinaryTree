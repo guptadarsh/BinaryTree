{
 "cells": [
  {
   "cell_type": "markdown",
   "metadata": {},
   "source": [
    "This is the implementation of Binary Tree with the help of class."
   ]
  },
  {
   "cell_type": "code",
   "execution_count": 3,
   "metadata": {},
   "outputs": [],
   "source": [
    "class BinaryTree(object):\n",
    "    \n",
    "    #inicialize the class\n",
    "    def __init__(self,root):\n",
    "        self.root = root\n",
    "        self.left_child = None\n",
    "        self.right_child = None\n",
    "        \n",
    "    #insert left child\n",
    "    def insert_left_child(self,new_child):\n",
    "        \n",
    "        #if there is not a left child\n",
    "        if self.left_child == None:\n",
    "            self.left_child = BinaryTree(new_child)\n",
    "        \n",
    "        #if there is a left child\n",
    "        else:\n",
    "            tmp = BinaryTree(new_child)\n",
    "            tmp.left_child = self.left_child\n",
    "            self.left_child = tmp\n",
    "            \n",
    "    #insert right child\n",
    "    def insert_right_child(self,new_child):\n",
    "        \n",
    "        #if there is not a right child\n",
    "        if self.right_child == None:\n",
    "            self.right_child = BinaryTree(new_child)\n",
    "            \n",
    "        #if there is a right child\n",
    "        else:\n",
    "            tmp = BinaryTree(new_child)\n",
    "            tmp.right_child = self.right_child\n",
    "            self.right_child = tmp\n",
    "            \n",
    "    #get left child\n",
    "    def get_left_child(self):\n",
    "        return self.left_child\n",
    "    \n",
    "    #get right child\n",
    "    def get_right_child(self):\n",
    "        return self.right_child\n",
    "    \n",
    "    #get root value\n",
    "    def get_root_value(self):\n",
    "        return self.root\n",
    "    \n",
    "    #set root value\n",
    "    def set_root_value(self,new_root):\n",
    "        self.root = new_root\n",
    "        \n",
    "bt = BinaryTree(5)"
   ]
  },
  {
   "cell_type": "markdown",
   "metadata": {},
   "source": [
    "Get Root Value"
   ]
  },
  {
   "cell_type": "code",
   "execution_count": 6,
   "metadata": {},
   "outputs": [
    {
     "data": {
      "text/plain": [
       "5"
      ]
     },
     "execution_count": 6,
     "metadata": {},
     "output_type": "execute_result"
    }
   ],
   "source": [
    "bt.get_root_value()"
   ]
  },
  {
   "cell_type": "markdown",
   "metadata": {},
   "source": [
    "Insert left child"
   ]
  },
  {
   "cell_type": "code",
   "execution_count": 7,
   "metadata": {},
   "outputs": [],
   "source": [
    "bt.insert_left_child(1)"
   ]
  },
  {
   "cell_type": "code",
   "execution_count": 8,
   "metadata": {},
   "outputs": [],
   "source": [
    "bt.insert_left_child(4)"
   ]
  },
  {
   "cell_type": "markdown",
   "metadata": {},
   "source": [
    "Get left child"
   ]
  },
  {
   "cell_type": "code",
   "execution_count": 12,
   "metadata": {},
   "outputs": [
    {
     "data": {
      "text/plain": [
       "<__main__.BinaryTree at 0x273b69a54a8>"
      ]
     },
     "execution_count": 12,
     "metadata": {},
     "output_type": "execute_result"
    }
   ],
   "source": [
    "bt.get_left_child()"
   ]
  },
  {
   "cell_type": "markdown",
   "metadata": {},
   "source": [
    "Means we call the root value also."
   ]
  },
  {
   "cell_type": "code",
   "execution_count": 15,
   "metadata": {},
   "outputs": [
    {
     "data": {
      "text/plain": [
       "4"
      ]
     },
     "execution_count": 15,
     "metadata": {},
     "output_type": "execute_result"
    }
   ],
   "source": [
    "bt.get_left_child().get_root_value()"
   ]
  },
  {
   "cell_type": "markdown",
   "metadata": {},
   "source": [
    "Insert right child"
   ]
  },
  {
   "cell_type": "code",
   "execution_count": 16,
   "metadata": {},
   "outputs": [],
   "source": [
    "bt.insert_right_child(7)"
   ]
  },
  {
   "cell_type": "markdown",
   "metadata": {},
   "source": [
    "Get right child"
   ]
  },
  {
   "cell_type": "code",
   "execution_count": 17,
   "metadata": {},
   "outputs": [
    {
     "data": {
      "text/plain": [
       "7"
      ]
     },
     "execution_count": 17,
     "metadata": {},
     "output_type": "execute_result"
    }
   ],
   "source": [
    "bt.get_right_child().get_root_value()"
   ]
  },
  {
   "cell_type": "code",
   "execution_count": null,
   "metadata": {},
   "outputs": [],
   "source": []
  }
 ],
 "metadata": {
  "kernelspec": {
   "display_name": "Python 3",
   "language": "python",
   "name": "python3"
  },
  "language_info": {
   "codemirror_mode": {
    "name": "ipython",
    "version": 3
   },
   "file_extension": ".py",
   "mimetype": "text/x-python",
   "name": "python",
   "nbconvert_exporter": "python",
   "pygments_lexer": "ipython3",
   "version": "3.7.3"
  }
 },
 "nbformat": 4,
 "nbformat_minor": 2
}
